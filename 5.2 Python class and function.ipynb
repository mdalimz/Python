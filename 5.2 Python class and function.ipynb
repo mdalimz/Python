{
 "cells": [
  {
   "cell_type": "markdown",
   "metadata": {},
   "source": [
    "# py.function\n",
    "### Built-in Functions\n",
    "A\n",
    "abs()\n",
    "aiter()\n",
    "all()\n",
    "anext()\n",
    "any()\n",
    "ascii()\n",
    "\n",
    "B\n",
    "bin()\n",
    "bool()\n",
    "breakpoint()\n",
    "bytearray()\n",
    "bytes()\n",
    "\n",
    "C\n",
    "callable()\n",
    "chr()\n",
    "classmethod()\n",
    "compile()\n",
    "complex()\n",
    "\n",
    "D\n",
    "delattr()\n",
    "dict()\n",
    "dir()\n",
    "divmod()\n",
    "\n",
    "E\n",
    "enumerate()\n",
    "eval()\n",
    "exec()\n",
    "\n",
    "F\n",
    "filter()\n",
    "float()\n",
    "format()\n",
    "frozenset()\n",
    "\n",
    "G\n",
    "getattr()\n",
    "globals()\n",
    "\n",
    "H\n",
    "hasattr()\n",
    "hash()\n",
    "help()\n",
    "hex()\n",
    "\n",
    "I\n",
    "id()\n",
    "input()\n",
    "int()\n",
    "isinstance()\n",
    "issubclass()\n",
    "iter()\n",
    "L\n",
    "len()\n",
    "list()\n",
    "locals()\n",
    "\n",
    "M\n",
    "map()\n",
    "max()\n",
    "memoryview()\n",
    "min()\n",
    "\n",
    "N\n",
    "next()\n",
    "\n",
    "O\n",
    "object()\n",
    "oct()\n",
    "open()\n",
    "ord()\n",
    "\n",
    "P\n",
    "pow()\n",
    "print()\n",
    "property()\n",
    "\n",
    "\n",
    "\n",
    "\n",
    "R\n",
    "range()\n",
    "repr()\n",
    "reversed()\n",
    "round()\n",
    "\n",
    "S\n",
    "set()\n",
    "setattr()\n",
    "slice()\n",
    "sorted()\n",
    "staticmethod()\n",
    "str()\n",
    "sum()\n",
    "super()\n",
    "\n",
    "T\n",
    "tuple()\n",
    "type()\n",
    "\n",
    "V\n",
    "vars()\n",
    "\n",
    "Z\n",
    "zip()\n",
    "\n",
    "_\n",
    "__import__()\n",
    "\n",
    "https://docs.python.org/3/library/functions.html"
   ]
  },
  {
   "cell_type": "markdown",
   "metadata": {},
   "source": [
    "# How to work with function\n",
    "There are two types ways to to go...................................................../\n",
    "\n",
    "##### Parameterized: Values to be placed inside the parenthesis. Generally is used for the high end applications.\n",
    "\n",
    "##### Non-parameterized: Empty parenthesis. Generally in use for basic processes."
   ]
  },
  {
   "cell_type": "code",
   "execution_count": 2,
   "metadata": {},
   "outputs": [],
   "source": [
    "#Parameterized: Values to be placed inside the parenthesis. Generally is used for the high end applications."
   ]
  },
  {
   "cell_type": "code",
   "execution_count": 48,
   "metadata": {},
   "outputs": [],
   "source": [
    "################### 1\n",
    "def add(n1, n2): #with 2 arg,,,\n",
    "    sum = n1 +n2\n",
    "    print('the sum of these two number is:', sum)"
   ]
  },
  {
   "cell_type": "code",
   "execution_count": 45,
   "metadata": {},
   "outputs": [
    {
     "name": "stdout",
     "output_type": "stream",
     "text": [
      "the sum of these two number is: 13\n"
     ]
    }
   ],
   "source": [
    "add(5, 8)"
   ]
  },
  {
   "cell_type": "code",
   "execution_count": 46,
   "metadata": {},
   "outputs": [
    {
     "name": "stdout",
     "output_type": "stream",
     "text": [
      "the sum of these two number is: 88888888888891110\n"
     ]
    }
   ],
   "source": [
    "add(2222,88888888888888888)"
   ]
  },
  {
   "cell_type": "code",
   "execution_count": 7,
   "metadata": {},
   "outputs": [],
   "source": [
    "#############  2\n",
    "def multi(d1, d2):\n",
    "    product= d1 * d2\n",
    "    print('The product of two numbers is: ', product)"
   ]
  },
  {
   "cell_type": "code",
   "execution_count": 8,
   "metadata": {},
   "outputs": [
    {
     "name": "stdout",
     "output_type": "stream",
     "text": [
      "The product of two numbers is:  1694\n"
     ]
    }
   ],
   "source": [
    "multi(22,77)"
   ]
  },
  {
   "cell_type": "code",
   "execution_count": 9,
   "metadata": {},
   "outputs": [
    {
     "name": "stdout",
     "output_type": "stream",
     "text": [
      "The product of two numbers is:  19753086419753066469135802469136\n"
     ]
    }
   ],
   "source": [
    "multi(22222222222222222,888888888888888)"
   ]
  },
  {
   "cell_type": "markdown",
   "metadata": {},
   "source": [
    "#### ---------------------------------------------\n",
    "Non-parameterized: Empty parenthesis. Generally in use for basic processes.-"
   ]
  },
  {
   "cell_type": "code",
   "execution_count": 1,
   "metadata": {},
   "outputs": [],
   "source": [
    "#Non-parameterized: Empty parenthesis. Generally in use for basic processes."
   ]
  },
  {
   "cell_type": "code",
   "execution_count": 3,
   "metadata": {},
   "outputs": [],
   "source": [
    "def add(): #with 2 arg,,,\n",
    "    n1= 6\n",
    "    n2=8\n",
    "    sum = n1 +n2\n",
    "    print('the sum of these two number is:', sum)"
   ]
  },
  {
   "cell_type": "code",
   "execution_count": 12,
   "metadata": {},
   "outputs": [
    {
     "name": "stdout",
     "output_type": "stream",
     "text": [
      "the sum of these two number is: 14\n"
     ]
    }
   ],
   "source": [
    "add()"
   ]
  },
  {
   "cell_type": "code",
   "execution_count": 13,
   "metadata": {},
   "outputs": [],
   "source": [
    "def add(): #with 2 arg,,,\n",
    "    n1= int(input('enter the number 1:' ))\n",
    "    n2= int(input('enter the number 2:' ))\n",
    "    sum = n1 +n2\n",
    "    print('the sum of these two number is:', sum)"
   ]
  },
  {
   "cell_type": "code",
   "execution_count": 15,
   "metadata": {},
   "outputs": [
    {
     "name": "stdout",
     "output_type": "stream",
     "text": [
      "enter the number 1:12222222222222222222222\n",
      "enter the number 2:77777777777777777777777777777777\n",
      "the sum of these two number is: 77777777789999999999999999999999\n"
     ]
    }
   ],
   "source": [
    "add()"
   ]
  },
  {
   "cell_type": "markdown",
   "metadata": {},
   "source": [
    "Functions are blocks of code that perform a specific task. They can take inputs, perform operations, and return output</br>\n",
    "### Creating function"
   ]
  },
  {
   "cell_type": "code",
   "execution_count": 28,
   "metadata": {},
   "outputs": [
    {
     "name": "stdout",
     "output_type": "stream",
     "text": [
      "Hello, World!\n"
     ]
    }
   ],
   "source": [
    "# 1.\n",
    "def greet():\n",
    "    print(\"Hello, World!\")\n",
    "greet()"
   ]
  },
  {
   "cell_type": "code",
   "execution_count": 29,
   "metadata": {},
   "outputs": [],
   "source": [
    "def greet(name):  #\n",
    "    return f\"hELLO, {name}\"  #formatted string"
   ]
  },
  {
   "cell_type": "code",
   "execution_count": 30,
   "metadata": {},
   "outputs": [
    {
     "name": "stdout",
     "output_type": "stream",
     "text": [
      "hELLO, Alice\n"
     ]
    }
   ],
   "source": [
    "print(greet(\"Alice\"))"
   ]
  },
  {
   "cell_type": "code",
   "execution_count": 32,
   "metadata": {},
   "outputs": [
    {
     "data": {
      "text/plain": [
       "8"
      ]
     },
     "execution_count": 32,
     "metadata": {},
     "output_type": "execute_result"
    }
   ],
   "source": [
    "# 2.\n",
    "def add_numbers(a, b):\n",
    "    return a + b\n",
    "\n",
    "add_numbers(5, 3)\n",
    "# print(result)  "
   ]
  },
  {
   "cell_type": "code",
   "execution_count": 45,
   "metadata": {},
   "outputs": [],
   "source": [
    "# Function with Default Parameter\n",
    "def greet(name, mess='Hi'):\n",
    "    print(f\"{mess}, {name}!\")"
   ]
  },
  {
   "cell_type": "code",
   "execution_count": 46,
   "metadata": {},
   "outputs": [
    {
     "name": "stdout",
     "output_type": "stream",
     "text": [
      "Hi, Bob!\n",
      "Good morning, Charlie!\n"
     ]
    }
   ],
   "source": [
    "greet(\"Bob\")  # Output: Hello, Bob!\n",
    "greet(\"Charlie\", \"Good morning\")"
   ]
  },
  {
   "cell_type": "code",
   "execution_count": 47,
   "metadata": {},
   "outputs": [
    {
     "name": "stdout",
     "output_type": "stream",
     "text": [
      "I have a dog named Buddy.\n"
     ]
    }
   ],
   "source": [
    "#Function with Keyword Arguments\n",
    "def describe_pet(animal_type, pet_name):\n",
    "    print(f\"I have a {animal_type} named {pet_name}.\")\n",
    "describe_pet(animal_type=\"dog\", pet_name=\"Buddy\")  # Output: I have a dog named Buddy.\n"
   ]
  },
  {
   "cell_type": "code",
   "execution_count": 55,
   "metadata": {},
   "outputs": [
    {
     "name": "stdout",
     "output_type": "stream",
     "text": [
      "Predictions: [200.]\n"
     ]
    }
   ],
   "source": [
    "from sklearn.model_selection import train_test_split\n",
    "from sklearn.linear_model import LinearRegression\n",
    "import numpy as np\n",
    "\n",
    "# Sample data\n",
    "X = np.array([[1], [2], [3], [4], [5]])\n",
    "y = np.array([100, 200, 300, 400, 500])\n",
    "\n",
    "# Splitting the data into training and testing sets\n",
    "X_train, X_test, y_train, y_test = train_test_split(X, y, test_size=0.2, random_state=42)\n",
    "\n",
    "# Creating and training the model\n",
    "model = LinearRegression()\n",
    "model.fit(X_train, y_train)\n",
    "\n",
    "# Making predictions\n",
    "predictions = model.predict(X_test)\n",
    "print(f\"Predictions: {predictions}\")\n"
   ]
  },
  {
   "cell_type": "code",
   "execution_count": 56,
   "metadata": {},
   "outputs": [
    {
     "name": "stdout",
     "output_type": "stream",
     "text": [
      "[]\n"
     ]
    }
   ],
   "source": [
    "import requests\n",
    "from bs4 import BeautifulSoup\n",
    "\n",
    "def get_latest_headlines(url):\n",
    "    response = requests.get(url)\n",
    "    soup = BeautifulSoup(response.text, 'html.parser')\n",
    "    headlines = soup.find_all('a', class_='storylink')\n",
    "    return [headline.text for headline in headlines[:5]]\n",
    "\n",
    "# Example usage\n",
    "url = 'https://news.ycombinator.com/'\n",
    "print(get_latest_headlines(url))\n"
   ]
  },
  {
   "cell_type": "code",
   "execution_count": 57,
   "metadata": {},
   "outputs": [
    {
     "name": "stdout",
     "output_type": "stream",
     "text": [
      "Counter({'Python': 3, 'is': 3, 'great.': 1, 'easy': 1, 'to': 1, 'learn.': 1, 'powerful.': 1})\n"
     ]
    }
   ],
   "source": [
    "from collections import Counter\n",
    "\n",
    "def word_frequency(text):\n",
    "    words = text.split()\n",
    "    frequency = Counter(words)\n",
    "    return frequency\n",
    "\n",
    "# Example usage\n",
    "text = \"Python is great. Python is easy to learn. Python is powerful.\"\n",
    "print(word_frequency(text))\n"
   ]
  },
  {
   "cell_type": "code",
   "execution_count": 58,
   "metadata": {},
   "outputs": [
    {
     "data": {
      "text/plain": [
       "array([[1],\n",
       "       [2],\n",
       "       [3],\n",
       "       [4],\n",
       "       [5]])"
      ]
     },
     "execution_count": 58,
     "metadata": {},
     "output_type": "execute_result"
    }
   ],
   "source": [
    "X = np.array([[[1], [2], [3], [4], [5]])\n",
    "#y = np.array([100, 200, 300, 400, 500])\n",
    "X"
   ]
  },
  {
   "cell_type": "code",
   "execution_count": 59,
   "metadata": {},
   "outputs": [],
   "source": [
    "#X = np.array([[1], [2], [3], [4], [5]])\n",
    "y = np.array([100, 200, 300, 400, 500])"
   ]
  },
  {
   "cell_type": "code",
   "execution_count": 60,
   "metadata": {},
   "outputs": [
    {
     "data": {
      "text/plain": [
       "array([100, 200, 300, 400, 500])"
      ]
     },
     "execution_count": 60,
     "metadata": {},
     "output_type": "execute_result"
    }
   ],
   "source": [
    "y"
   ]
  },
  {
   "cell_type": "code",
   "execution_count": null,
   "metadata": {},
   "outputs": [],
   "source": []
  }
 ],
 "metadata": {
  "kernelspec": {
   "display_name": "Python 3",
   "language": "python",
   "name": "python3"
  },
  "language_info": {
   "codemirror_mode": {
    "name": "ipython",
    "version": 3
   },
   "file_extension": ".py",
   "mimetype": "text/x-python",
   "name": "python",
   "nbconvert_exporter": "python",
   "pygments_lexer": "ipython3",
   "version": "3.8.5"
  }
 },
 "nbformat": 4,
 "nbformat_minor": 4
}
